{
  "nbformat": 4,
  "nbformat_minor": 0,
  "metadata": {
    "colab": {
      "name": "HPO enrichment with goatools.ipynb",
      "provenance": [],
      "collapsed_sections": [],
      "include_colab_link": true
    },
    "kernelspec": {
      "name": "python3",
      "display_name": "Python 3"
    }
  },
  "cells": [
    {
      "cell_type": "markdown",
      "metadata": {
        "id": "view-in-github",
        "colab_type": "text"
      },
      "source": [
        "<a href=\"https://colab.research.google.com/github/hmartiniano/hpo_enrichment/blob/master/HPO_enrichment_with_goatools.ipynb\" target=\"_parent\"><img src=\"https://colab.research.google.com/assets/colab-badge.svg\" alt=\"Open In Colab\"/></a>"
      ]
    },
    {
      "cell_type": "markdown",
      "metadata": {
        "id": "3VzeQD5gfBRg",
        "colab_type": "text"
      },
      "source": [
        "# HPO enrichment using a modified version of goatoools\n",
        "This notebook calculates HPO enrichment for a list of entrez gene ids using a modified version of the goatools package.\n",
        "\n",
        "To adapt this to your gene list replace the `genes` variable below with a list of your genes of interest and run the notebook again (see bottom cell for more info).\n"
      ]
    },
    {
      "cell_type": "markdown",
      "metadata": {
        "id": "EbsJWniti4O2",
        "colab_type": "text"
      },
      "source": [
        "## Setup\n",
        "Install the goatools package"
      ]
    },
    {
      "cell_type": "code",
      "metadata": {
        "id": "mzcMgw70GKLO",
        "colab_type": "code",
        "colab": {
          "base_uri": "https://localhost:8080/",
          "height": 1000
        },
        "outputId": "f11ed327-4137-40d2-fdef-699d6826db16"
      },
      "source": [
        "!pip install goatools"
      ],
      "execution_count": 1,
      "outputs": [
        {
          "output_type": "stream",
          "text": [
            "Collecting goatools\n",
            "\u001b[?25l  Downloading https://files.pythonhosted.org/packages/28/18/0ee32492ec3e42a3a75075738eac751d0fdfb38055a8c6c1ce2efa14b400/goatools-1.0.6.tar.gz (15.1MB)\n",
            "\u001b[K     |████████████████████████████████| 15.1MB 240kB/s \n",
            "\u001b[?25hRequirement already satisfied: pytest in /usr/local/lib/python3.6/dist-packages (from goatools) (3.6.4)\n",
            "Collecting pytest-cov\n",
            "  Downloading https://files.pythonhosted.org/packages/3d/13/ae3dec587b1cc07fb9f294e52ea9ad140266aea55adb9e12eade3625bd27/pytest_cov-2.10.0-py2.py3-none-any.whl\n",
            "Requirement already satisfied: pandas in /usr/local/lib/python3.6/dist-packages (from goatools) (1.0.5)\n",
            "Requirement already satisfied: numpy in /usr/local/lib/python3.6/dist-packages (from goatools) (1.18.5)\n",
            "Requirement already satisfied: scipy in /usr/local/lib/python3.6/dist-packages (from goatools) (1.4.1)\n",
            "Collecting nose\n",
            "\u001b[?25l  Downloading https://files.pythonhosted.org/packages/15/d8/dd071918c040f50fa1cf80da16423af51ff8ce4a0f2399b7bf8de45ac3d9/nose-1.3.7-py3-none-any.whl (154kB)\n",
            "\u001b[K     |████████████████████████████████| 163kB 47.2MB/s \n",
            "\u001b[?25hCollecting xlsxwriter\n",
            "\u001b[?25l  Downloading https://files.pythonhosted.org/packages/c8/a2/e5f28b67b7d883c9a6585c0ef32b4bb002bff0292b3008f3d6d3fc7eee59/XlsxWriter-1.2.9-py2.py3-none-any.whl (141kB)\n",
            "\u001b[K     |████████████████████████████████| 143kB 43.5MB/s \n",
            "\u001b[?25hRequirement already satisfied: statsmodels in /usr/local/lib/python3.6/dist-packages (from goatools) (0.10.2)\n",
            "Requirement already satisfied: xlrd in /usr/local/lib/python3.6/dist-packages (from goatools) (1.1.0)\n",
            "Requirement already satisfied: docopt in /usr/local/lib/python3.6/dist-packages (from goatools) (0.6.2)\n",
            "Requirement already satisfied: pydot in /usr/local/lib/python3.6/dist-packages (from goatools) (1.3.0)\n",
            "Requirement already satisfied: requests in /usr/local/lib/python3.6/dist-packages (from goatools) (2.23.0)\n",
            "Collecting wget\n",
            "  Downloading https://files.pythonhosted.org/packages/47/6a/62e288da7bcda82b935ff0c6cfe542970f04e29c756b0e147251b2fb251f/wget-3.2.zip\n",
            "Requirement already satisfied: py>=1.5.0 in /usr/local/lib/python3.6/dist-packages (from pytest->goatools) (1.8.2)\n",
            "Requirement already satisfied: atomicwrites>=1.0 in /usr/local/lib/python3.6/dist-packages (from pytest->goatools) (1.4.0)\n",
            "Requirement already satisfied: pluggy<0.8,>=0.5 in /usr/local/lib/python3.6/dist-packages (from pytest->goatools) (0.7.1)\n",
            "Requirement already satisfied: setuptools in /usr/local/lib/python3.6/dist-packages (from pytest->goatools) (47.3.1)\n",
            "Requirement already satisfied: six>=1.10.0 in /usr/local/lib/python3.6/dist-packages (from pytest->goatools) (1.12.0)\n",
            "Requirement already satisfied: attrs>=17.4.0 in /usr/local/lib/python3.6/dist-packages (from pytest->goatools) (19.3.0)\n",
            "Requirement already satisfied: more-itertools>=4.0.0 in /usr/local/lib/python3.6/dist-packages (from pytest->goatools) (8.4.0)\n",
            "Collecting coverage>=4.4\n",
            "\u001b[?25l  Downloading https://files.pythonhosted.org/packages/2a/3e/fc18ecef69f174c13493576f46966053c1da07fd8721962530dc1a10b1ca/coverage-5.1-cp36-cp36m-manylinux1_x86_64.whl (227kB)\n",
            "\u001b[K     |████████████████████████████████| 235kB 44.9MB/s \n",
            "\u001b[?25hRequirement already satisfied: python-dateutil>=2.6.1 in /usr/local/lib/python3.6/dist-packages (from pandas->goatools) (2.8.1)\n",
            "Requirement already satisfied: pytz>=2017.2 in /usr/local/lib/python3.6/dist-packages (from pandas->goatools) (2018.9)\n",
            "Requirement already satisfied: patsy>=0.4.0 in /usr/local/lib/python3.6/dist-packages (from statsmodels->goatools) (0.5.1)\n",
            "Requirement already satisfied: pyparsing>=2.1.4 in /usr/local/lib/python3.6/dist-packages (from pydot->goatools) (2.4.7)\n",
            "Requirement already satisfied: urllib3!=1.25.0,!=1.25.1,<1.26,>=1.21.1 in /usr/local/lib/python3.6/dist-packages (from requests->goatools) (1.24.3)\n",
            "Requirement already satisfied: certifi>=2017.4.17 in /usr/local/lib/python3.6/dist-packages (from requests->goatools) (2020.6.20)\n",
            "Requirement already satisfied: chardet<4,>=3.0.2 in /usr/local/lib/python3.6/dist-packages (from requests->goatools) (3.0.4)\n",
            "Requirement already satisfied: idna<3,>=2.5 in /usr/local/lib/python3.6/dist-packages (from requests->goatools) (2.9)\n",
            "Building wheels for collected packages: goatools, wget\n",
            "  Building wheel for goatools (setup.py) ... \u001b[?25l\u001b[?25hdone\n",
            "  Created wheel for goatools: filename=goatools-1.0.6-cp36-none-any.whl size=15756242 sha256=14fe096f8e9431fa2a3f7a5b73683d807b1536bd32ab6ea388724e9d0430f86a\n",
            "  Stored in directory: /root/.cache/pip/wheels/04/2c/6b/712610f8e37acf01880214bab62025536caf2ec4e3e45178b3\n",
            "  Building wheel for wget (setup.py) ... \u001b[?25l\u001b[?25hdone\n",
            "  Created wheel for wget: filename=wget-3.2-cp36-none-any.whl size=9682 sha256=9711338707a7cedd2aca5da19c1a379fb12f5315e496a3d74c2123715a52c966\n",
            "  Stored in directory: /root/.cache/pip/wheels/40/15/30/7d8f7cea2902b4db79e3fea550d7d7b85ecb27ef992b618f3f\n",
            "Successfully built goatools wget\n",
            "\u001b[31mERROR: datascience 0.10.6 has requirement coverage==3.7.1, but you'll have coverage 5.1 which is incompatible.\u001b[0m\n",
            "\u001b[31mERROR: datascience 0.10.6 has requirement folium==0.2.1, but you'll have folium 0.8.3 which is incompatible.\u001b[0m\n",
            "\u001b[31mERROR: coveralls 0.5 has requirement coverage<3.999,>=3.6, but you'll have coverage 5.1 which is incompatible.\u001b[0m\n",
            "\u001b[31mERROR: pytest-cov 2.10.0 has requirement pytest>=4.6, but you'll have pytest 3.6.4 which is incompatible.\u001b[0m\n",
            "Installing collected packages: coverage, pytest-cov, nose, xlsxwriter, wget, goatools\n",
            "  Found existing installation: coverage 3.7.1\n",
            "    Uninstalling coverage-3.7.1:\n",
            "      Successfully uninstalled coverage-3.7.1\n",
            "Successfully installed coverage-5.1 goatools-1.0.6 nose-1.3.7 pytest-cov-2.10.0 wget-3.2 xlsxwriter-1.2.9\n"
          ],
          "name": "stdout"
        }
      ]
    },
    {
      "cell_type": "code",
      "metadata": {
        "id": "uk_aqTewki6A",
        "colab_type": "code",
        "colab": {}
      },
      "source": [
        "import pandas as pd"
      ],
      "execution_count": 2,
      "outputs": []
    },
    {
      "cell_type": "markdown",
      "metadata": {
        "id": "6dROIhcIlZA5",
        "colab_type": "text"
      },
      "source": [
        "#Download and import HPO obo "
      ]
    },
    {
      "cell_type": "code",
      "metadata": {
        "id": "2Y5esNRdILAj",
        "colab_type": "code",
        "colab": {
          "base_uri": "https://localhost:8080/",
          "height": 311
        },
        "outputId": "5d3febf0-4dbb-48c2-f078-99e742bd205d"
      },
      "source": [
        "!wget http://purl.obolibrary.org/obo/hp.obo"
      ],
      "execution_count": 3,
      "outputs": [
        {
          "output_type": "stream",
          "text": [
            "--2020-07-06 09:10:55--  http://purl.obolibrary.org/obo/hp.obo\n",
            "Resolving purl.obolibrary.org (purl.obolibrary.org)... 52.3.123.63\n",
            "Connecting to purl.obolibrary.org (purl.obolibrary.org)|52.3.123.63|:80... connected.\n",
            "HTTP request sent, awaiting response... 302 Found\n",
            "Location: https://raw.githubusercontent.com/obophenotype/human-phenotype-ontology/master/hp.obo [following]\n",
            "--2020-07-06 09:10:55--  https://raw.githubusercontent.com/obophenotype/human-phenotype-ontology/master/hp.obo\n",
            "Resolving raw.githubusercontent.com (raw.githubusercontent.com)... 151.101.0.133, 151.101.64.133, 151.101.128.133, ...\n",
            "Connecting to raw.githubusercontent.com (raw.githubusercontent.com)|151.101.0.133|:443... connected.\n",
            "HTTP request sent, awaiting response... 200 OK\n",
            "Length: 6925586 (6.6M) [text/plain]\n",
            "Saving to: ‘hp.obo’\n",
            "\n",
            "hp.obo              100%[===================>]   6.60M  30.6MB/s    in 0.2s    \n",
            "\n",
            "2020-07-06 09:10:56 (30.6 MB/s) - ‘hp.obo’ saved [6925586/6925586]\n",
            "\n"
          ],
          "name": "stdout"
        }
      ]
    },
    {
      "cell_type": "code",
      "metadata": {
        "id": "4AKEjPbmIZuR",
        "colab_type": "code",
        "colab": {
          "base_uri": "https://localhost:8080/",
          "height": 35
        },
        "outputId": "deb4b755-042b-41d5-ba2e-56a9f99dd7b5"
      },
      "source": [
        "from goatools.obo_parser import GODag\n",
        "\n",
        "obodag = GODag(\"hp.obo\")"
      ],
      "execution_count": 4,
      "outputs": [
        {
          "output_type": "stream",
          "text": [
            "hp.obo: fmt(1.2) rel(hp/2020-06-08) 18,721 GO Terms\n"
          ],
          "name": "stdout"
        }
      ]
    },
    {
      "cell_type": "markdown",
      "metadata": {
        "id": "hlYi3IV1lf95",
        "colab_type": "text"
      },
      "source": [
        "#Download and import HPO term annotations\n",
        "\n",
        "First we download gene2go annotations just to see  the format of the file that is read by the Gene2GoReader class."
      ]
    },
    {
      "cell_type": "code",
      "metadata": {
        "id": "6eEQTtMsijAU",
        "colab_type": "code",
        "colab": {
          "base_uri": "https://localhost:8080/",
          "height": 35
        },
        "outputId": "18e174b5-3996-4907-e2b0-64c1c6c9ebd8"
      },
      "source": [
        "# Get ftp://ftp.ncbi.nlm.nih.gov/gene/DATA/gene2go.gz\n",
        "from goatools.base import download_ncbi_associations\n",
        "fin_gene2go = download_ncbi_associations()"
      ],
      "execution_count": 47,
      "outputs": [
        {
          "output_type": "stream",
          "text": [
            "  EXISTS: gene2go\n"
          ],
          "name": "stdout"
        }
      ]
    },
    {
      "cell_type": "code",
      "metadata": {
        "id": "i3dMS4MqjEP1",
        "colab_type": "code",
        "colab": {
          "base_uri": "https://localhost:8080/",
          "height": 201
        },
        "outputId": "3bdb0fc5-ccb9-4baf-ece9-ab8f20b18b8d"
      },
      "source": [
        "!head gene2go"
      ],
      "execution_count": 48,
      "outputs": [
        {
          "output_type": "stream",
          "text": [
            "#tax_id\tGeneID\tGO_ID\tEvidence\tQualifier\tGO_term\tPubMed\tCategory\n",
            "3702\t814629\tGO:0005634\tISM\t-\tnucleus\t-\tComponent\n",
            "3702\t814629\tGO:0008150\tND\t-\tbiological_process\t-\tProcess\n",
            "3702\t814630\tGO:0003700\tISS\t-\tDNA-binding transcription factor activity\t11118137\tFunction\n",
            "3702\t814630\tGO:0005634\tISM\t-\tnucleus\t-\tComponent\n",
            "3702\t814630\tGO:0006355\tTAS\t-\tregulation of transcription, DNA-templated\t11118137\tProcess\n",
            "3702\t814636\tGO:0003674\tND\t-\tmolecular_function\t-\tFunction\n",
            "3702\t814636\tGO:0005886\tIBA\t-\tplasma membrane\t21873635\tComponent\n",
            "3702\t814636\tGO:0005886\tIDA\t-\tplasma membrane\t17317660|17644812\tComponent\n",
            "3702\t814636\tGO:0008150\tND\t-\tbiological_process\t-\tProcess\n"
          ],
          "name": "stdout"
        }
      ]
    },
    {
      "cell_type": "markdown",
      "metadata": {
        "id": "s93gE26cl5PB",
        "colab_type": "text"
      },
      "source": [
        "Now we download the HPO annotatio file and format it to match the expected GO file"
      ]
    },
    {
      "cell_type": "code",
      "metadata": {
        "id": "EcSS8pS5kMGH",
        "colab_type": "code",
        "colab": {}
      },
      "source": [
        "hpo_annotations = pd.read_csv(\n",
        "    \"http://compbio.charite.de/jenkins/job/hpo.annotations/lastStableBuild/artifact/util/annotation/genes_to_phenotype.txt\",\n",
        "    sep=\"\\t\",\n",
        "    header=None,\n",
        "    comment=\"#\",\n",
        ")"
      ],
      "execution_count": 49,
      "outputs": []
    },
    {
      "cell_type": "code",
      "metadata": {
        "id": "EE9NlkKoknpL",
        "colab_type": "code",
        "colab": {
          "base_uri": "https://localhost:8080/",
          "height": 206
        },
        "outputId": "191b6199-02cc-4eeb-b7b1-0586b4e49db4"
      },
      "source": [
        "hpo_annotations.head()"
      ],
      "execution_count": 50,
      "outputs": [
        {
          "output_type": "execute_result",
          "data": {
            "text/html": [
              "<div>\n",
              "<style scoped>\n",
              "    .dataframe tbody tr th:only-of-type {\n",
              "        vertical-align: middle;\n",
              "    }\n",
              "\n",
              "    .dataframe tbody tr th {\n",
              "        vertical-align: top;\n",
              "    }\n",
              "\n",
              "    .dataframe thead th {\n",
              "        text-align: right;\n",
              "    }\n",
              "</style>\n",
              "<table border=\"1\" class=\"dataframe\">\n",
              "  <thead>\n",
              "    <tr style=\"text-align: right;\">\n",
              "      <th></th>\n",
              "      <th>0</th>\n",
              "      <th>1</th>\n",
              "      <th>2</th>\n",
              "      <th>3</th>\n",
              "      <th>4</th>\n",
              "      <th>5</th>\n",
              "      <th>6</th>\n",
              "      <th>7</th>\n",
              "      <th>8</th>\n",
              "    </tr>\n",
              "  </thead>\n",
              "  <tbody>\n",
              "    <tr>\n",
              "      <th>0</th>\n",
              "      <td>8192</td>\n",
              "      <td>CLPP</td>\n",
              "      <td>HP:0000786</td>\n",
              "      <td>Primary amenorrhea</td>\n",
              "      <td>NaN</td>\n",
              "      <td>NaN</td>\n",
              "      <td>-</td>\n",
              "      <td>mim2gene</td>\n",
              "      <td>OMIM:614129</td>\n",
              "    </tr>\n",
              "    <tr>\n",
              "      <th>1</th>\n",
              "      <td>8192</td>\n",
              "      <td>CLPP</td>\n",
              "      <td>HP:0000013</td>\n",
              "      <td>Hypoplasia of the uterus</td>\n",
              "      <td>NaN</td>\n",
              "      <td>NaN</td>\n",
              "      <td>-</td>\n",
              "      <td>mim2gene</td>\n",
              "      <td>OMIM:614129</td>\n",
              "    </tr>\n",
              "    <tr>\n",
              "      <th>2</th>\n",
              "      <td>8192</td>\n",
              "      <td>CLPP</td>\n",
              "      <td>HP:0001250</td>\n",
              "      <td>Seizure</td>\n",
              "      <td>NaN</td>\n",
              "      <td>HP:0040283</td>\n",
              "      <td>-</td>\n",
              "      <td>mim2gene</td>\n",
              "      <td>OMIM:614129</td>\n",
              "    </tr>\n",
              "    <tr>\n",
              "      <th>3</th>\n",
              "      <td>8192</td>\n",
              "      <td>CLPP</td>\n",
              "      <td>HP:0000007</td>\n",
              "      <td>Autosomal recessive inheritance</td>\n",
              "      <td>NaN</td>\n",
              "      <td>NaN</td>\n",
              "      <td>-</td>\n",
              "      <td>mim2gene</td>\n",
              "      <td>OMIM:614129</td>\n",
              "    </tr>\n",
              "    <tr>\n",
              "      <th>4</th>\n",
              "      <td>8192</td>\n",
              "      <td>CLPP</td>\n",
              "      <td>HP:0004322</td>\n",
              "      <td>Short stature</td>\n",
              "      <td>NaN</td>\n",
              "      <td>HP:0040283</td>\n",
              "      <td>-</td>\n",
              "      <td>mim2gene</td>\n",
              "      <td>OMIM:614129</td>\n",
              "    </tr>\n",
              "  </tbody>\n",
              "</table>\n",
              "</div>"
            ],
            "text/plain": [
              "      0     1           2  ...  6         7            8\n",
              "0  8192  CLPP  HP:0000786  ...  -  mim2gene  OMIM:614129\n",
              "1  8192  CLPP  HP:0000013  ...  -  mim2gene  OMIM:614129\n",
              "2  8192  CLPP  HP:0001250  ...  -  mim2gene  OMIM:614129\n",
              "3  8192  CLPP  HP:0000007  ...  -  mim2gene  OMIM:614129\n",
              "4  8192  CLPP  HP:0004322  ...  -  mim2gene  OMIM:614129\n",
              "\n",
              "[5 rows x 9 columns]"
            ]
          },
          "metadata": {
            "tags": []
          },
          "execution_count": 50
        }
      ]
    },
    {
      "cell_type": "markdown",
      "metadata": {
        "id": "WqCZfGARmdeq",
        "colab_type": "text"
      },
      "source": [
        "rename the columns to match the gene2go names"
      ]
    },
    {
      "cell_type": "code",
      "metadata": {
        "id": "_6txOsrSk-xX",
        "colab_type": "code",
        "colab": {}
      },
      "source": [
        "  # #Format: entrez-gene-id<tab>entrez-gene-symbol<tab>\n",
        "      #HPO-Term-Name<tab>HPO-Term-ID<tab>Frequency-Raw<tab>Frequency-HPO<tab>Additional Info from G-D source<tab>G-D source<tab>disease-ID for link\n",
        "\n",
        "hpo_annotations.columns = [\"GeneID\", \"GeneSymbol\", \"GO_ID\", \"GO_term\", \"FRE_raw\", \"FRE_HPO\", \"additional_info\", \"source\", \"disease_id\" ]"
      ],
      "execution_count": 51,
      "outputs": []
    },
    {
      "cell_type": "markdown",
      "metadata": {
        "id": "9_3xXrTwmZkl",
        "colab_type": "text"
      },
      "source": [
        "now, add the necessary columns"
      ]
    },
    {
      "cell_type": "code",
      "metadata": {
        "id": "XL5d_3qRlS_x",
        "colab_type": "code",
        "colab": {}
      },
      "source": [
        "# Expected columns:\n",
        "# #tax_id\tGeneID\tGO_ID\tEvidence\tQualifier\tGO_term\tPubMed\tCategory\n",
        "hpo_annotations[\"Evidence\"] = \"-\"\n",
        "hpo_annotations[\"Qualifier\"] = \"-\"\n",
        "hpo_annotations[\"PubMed\"] = \"-\"\n",
        "hpo_annotations[\"Category\"] = \"Process\"  # necessary \n",
        "hpo_annotations[\"#tax_id\"] = 9606"
      ],
      "execution_count": 52,
      "outputs": []
    },
    {
      "cell_type": "markdown",
      "metadata": {
        "id": "c5FYVwDZmhfK",
        "colab_type": "text"
      },
      "source": [
        "and reorder"
      ]
    },
    {
      "cell_type": "code",
      "metadata": {
        "id": "nsZtwT6Cmnk0",
        "colab_type": "code",
        "colab": {}
      },
      "source": [
        "hpo_annotations = hpo_annotations [[\"#tax_id\", \"GeneID\", \n",
        "                                    \"GO_ID\", \"Evidence\",\n",
        "                                    \"Qualifier\", \"GO_term\",\n",
        "                                    \"PubMed\", \"Category\"]]\n",
        "hpo_annotations.to_csv(\"gene2hpo\", sep=\"\\t\", index=False)"
      ],
      "execution_count": 53,
      "outputs": []
    },
    {
      "cell_type": "code",
      "metadata": {
        "id": "7lnz-FEGilVT",
        "colab_type": "code",
        "colab": {
          "base_uri": "https://localhost:8080/",
          "height": 35
        },
        "outputId": "153779ab-9f81-46a3-c266-baecd0a19794"
      },
      "source": [
        "from goatools.anno.genetogo_reader import Gene2GoReader\n",
        "\n",
        "# Read NCBI's gene2go. Store annotations in a list of namedtuples\n",
        "objanno = Gene2GoReader(\"gene2hpo\", taxids=[9606])"
      ],
      "execution_count": 54,
      "outputs": [
        {
          "output_type": "stream",
          "text": [
            "HMS:0:00:01.850495 205,787 annotations,  4,317 genes,  7,844 GOs, 1 taxids READ: gene2hpo \n"
          ],
          "name": "stdout"
        }
      ]
    },
    {
      "cell_type": "code",
      "metadata": {
        "id": "1io6tlDboMxm",
        "colab_type": "code",
        "colab": {
          "base_uri": "https://localhost:8080/",
          "height": 35
        },
        "outputId": "afd926ce-883a-48e7-beee-65a7aa2dd182"
      },
      "source": [
        "ns2assoc = objanno.get_ns2assc()\n",
        "for nspc, id2gos in ns2assoc.items():\n",
        "    print(\"{NS} {N:,} annotated genes\".format(NS=nspc, N=len(id2gos)))"
      ],
      "execution_count": 55,
      "outputs": [
        {
          "output_type": "stream",
          "text": [
            "BP 4,317 annotated genes\n"
          ],
          "name": "stdout"
        }
      ]
    },
    {
      "cell_type": "code",
      "metadata": {
        "id": "7NnsTkkAGOAX",
        "colab_type": "code",
        "colab": {}
      },
      "source": [
        "from goatools.test_data.genes_NCBI_9606_ProteinCoding import GENEID2NT as GeneID2nt\n",
        "from goatools.go_enrichment import GOEnrichmentStudy"
      ],
      "execution_count": 56,
      "outputs": []
    },
    {
      "cell_type": "code",
      "metadata": {
        "id": "aOH6cUIJHGL8",
        "colab_type": "code",
        "colab": {}
      },
      "source": [
        "\n",
        "# this does not work\n",
        "# 'p_' means \"pvalue\". 'fdr_bh' is the multipletest method we are currently using.\n",
        "#geneids_study = geneid2symbol.keys()\n",
        "#goea_results_all = goeaobj.run_study(genes)\n",
        "#goea_results_sig = [r for r in goea_results_all if r.p_fdr_bh < 0.05]\n",
        "#\n",
        "# so we do something else"
      ],
      "execution_count": 57,
      "outputs": []
    },
    {
      "cell_type": "code",
      "metadata": {
        "id": "Rkuyp6btplk3",
        "colab_type": "code",
        "colab": {}
      },
      "source": [
        "#!/usr/bin/env python\n",
        "# -*- coding: UTF-8 -*-\n",
        "\n",
        "\"\"\"\n",
        "python %prog study.file population.file gene-association.file\n",
        "\n",
        "This program returns P-values for functional enrichment in a cluster of\n",
        "study genes using Fisher's exact test, and corrected for multiple testing\n",
        "(including Bonferroni, Holm, Sidak, and false discovery rate)\n",
        "\"\"\"\n",
        "\n",
        "from __future__ import print_function\n",
        "from __future__ import absolute_import\n",
        "\n",
        "\n",
        "__copyright__ = \"Copyright (C) 2010-2019, H Tang et al., All rights reserved.\"\n",
        "__author__ = \"various\"\n",
        "\n",
        "import sys\n",
        "import collections as cx\n",
        "\n",
        "from goatools.multiple_testing import Methods\n",
        "from goatools.multiple_testing import Bonferroni\n",
        "from goatools.multiple_testing import Sidak\n",
        "from goatools.multiple_testing import HolmBonferroni\n",
        "from goatools.multiple_testing import FDR\n",
        "from goatools.multiple_testing import calc_qval\n",
        "from goatools.anno.update_association import update_association\n",
        "from goatools.anno.update_association import remove_assc_goids\n",
        "# BROAD from goatools.anno.update_association import get_goids_to_remove\n",
        "from goatools.ratio import get_terms, count_terms, is_ratio_different\n",
        "import goatools.wr_tbl as RPT\n",
        "from goatools.pvalcalc import FisherFactory\n",
        "\n",
        "from goatools.godag.prtfncs import GoeaPrintFunctions\n",
        "from goatools.rpt.goea_nt_xfrm import MgrNtGOEAs\n",
        "from goatools.rpt.prtfmt import PrtFmt\n",
        "# from goatools.goea.results import GoeaResults\n",
        "\n",
        "class GOEnrichmentRecord(object):\n",
        "    \"\"\"Represents one result (from a single GOTerm) in the GOEnrichmentStudy\n",
        "    \"\"\"\n",
        "    namespace2NS = cx.OrderedDict([\n",
        "        ('biological_process', 'BP'),\n",
        "        ('molecular_function', 'MF'),\n",
        "        ('cellular_component', 'CC')])\n",
        "\n",
        "    # Fields seen in every enrichment result\n",
        "    _fldsdefprt = [\n",
        "        \"GO\",\n",
        "        \"NS\",\n",
        "        \"enrichment\",\n",
        "        \"name\",\n",
        "        \"ratio_in_study\",\n",
        "        \"ratio_in_pop\",\n",
        "        \"p_uncorrected\",\n",
        "        \"depth\",\n",
        "        \"study_count\",\n",
        "        \"study_items\"]\n",
        "    _fldsdeffmt = [\"%s\"]*3 + [\"%-30s\"] + [\"%d/%d\"] * 2 + [\"%.3g\"] + [\"%d\"] * 2 + [\"%15s\"]\n",
        "\n",
        "    _flds = set(_fldsdefprt).intersection(\n",
        "        set(['study_items', 'study_count', 'study_n', 'pop_items', 'pop_count', 'pop_n']))\n",
        "\n",
        "    def __init__(self, goid, **kwargs):\n",
        "        # Methods seen in current enrichment result\n",
        "        # pylint: disable=invalid-name\n",
        "        self.GO = goid\n",
        "        self.name = 'n.a'\n",
        "        self.NS = 'XX'\n",
        "        self.depth = 'n.a'\n",
        "        self.method_flds = []\n",
        "        self.kws = kwargs\n",
        "        # Ex: ratio_in_pop ratio_in_study study_items p_uncorrected pop_items\n",
        "        for key, val in kwargs.items():\n",
        "            setattr(self, key, val)\n",
        "        _stucnt = kwargs.get('ratio_in_study', (0, 0))\n",
        "        self.study_count = _stucnt[0]\n",
        "        self.study_n = _stucnt[1]\n",
        "        _popcnt = kwargs.get('ratio_in_pop', (0, 0))\n",
        "        self.pop_count = _popcnt[0]\n",
        "        self.pop_n = _popcnt[1]\n",
        "        self.enrichment = self._init_enrichment()\n",
        "        self.goterm = None  # the reference to the GOTerm\n",
        "\n",
        "    def get_method_name(self):\n",
        "        \"\"\"Return name of first method in the method_flds list.\"\"\"\n",
        "        return self.method_flds[0].fieldname\n",
        "\n",
        "    def get_pvalue(self):\n",
        "        \"\"\"Returns pval for 1st method, if it exists. Else returns uncorrected pval.\"\"\"\n",
        "        if self.method_flds:\n",
        "            return getattr(self, \"p_{m}\".format(m=self.get_method_name()))\n",
        "        return getattr(self, \"p_uncorrected\")\n",
        "\n",
        "    def set_corrected_pval(self, nt_method, pvalue):\n",
        "        \"\"\"Add object attribute based on method name.\"\"\"\n",
        "        self.method_flds.append(nt_method)\n",
        "        fieldname = \"\".join([\"p_\", nt_method.fieldname])\n",
        "        setattr(self, fieldname, pvalue)\n",
        "\n",
        "    def __str__(self, indent=False):\n",
        "        field_data = [getattr(self, f, \"n.a.\") for f in self._fldsdefprt[:-1]] + \\\n",
        "                     [getattr(self, \"p_{}\".format(m.fieldname)) for m in self.method_flds] + \\\n",
        "                     [\", \".join(str(e) for e in sorted(getattr(self, self._fldsdefprt[-1], set())))]\n",
        "        fldsdeffmt = self._fldsdeffmt\n",
        "        field_formatter = fldsdeffmt[:-1] + [\"%.3g\"]*len(self.method_flds) + [fldsdeffmt[-1]]\n",
        "        self._chk_fields(field_data, field_formatter)\n",
        "\n",
        "        # default formatting only works for non-\"n.a\" data\n",
        "        for idx, fld in enumerate(field_data):\n",
        "            if fld == \"n.a.\":\n",
        "                field_formatter[idx] = \"%s\"\n",
        "\n",
        "        # print dots to show the level of the term\n",
        "        dots = self.get_indent_dots() if indent else \"\"\n",
        "        prtdata = \"\\t\".join(a % b for (a, b) in zip(field_formatter, field_data))\n",
        "        return \"\".join([dots, prtdata])\n",
        "\n",
        "    def get_indent_dots(self):\n",
        "        \"\"\"Get a string of dots (\"....\") representing the level of the GO term.\"\"\"\n",
        "        return \".\" * self.goterm.level if self.goterm is not None else \"\"\n",
        "\n",
        "    @staticmethod\n",
        "    def _chk_fields(field_data, field_formatter):\n",
        "        \"\"\"Check that expected fields are present.\"\"\"\n",
        "        if len(field_data) == len(field_formatter):\n",
        "            return\n",
        "        len_dat = len(field_data)\n",
        "        len_fmt = len(field_formatter)\n",
        "        msg = [\n",
        "            \"FIELD DATA({d}) != FORMATTER({f})\".format(d=len_dat, f=len_fmt),\n",
        "            \"DAT({N}): {D}\".format(N=len_dat, D=field_data),\n",
        "            \"FMT({N}): {F}\".format(N=len_fmt, F=field_formatter)]\n",
        "        raise Exception(\"\\n\".join(msg))\n",
        "\n",
        "    def __repr__(self):\n",
        "        return \"GOEnrichmentRecord({GO})\".format(GO=self.GO)\n",
        "\n",
        "    def set_goterm(self, go2obj):\n",
        "        \"\"\"Set goterm and copy GOTerm's name and namespace.\"\"\"\n",
        "        if self.GO in go2obj:\n",
        "            goterm = go2obj[self.GO]\n",
        "            self.goterm = goterm\n",
        "            self.name = goterm.name\n",
        "            self.depth = goterm.depth\n",
        "            #self.NS = self.namespace2NS[self.goterm.namespace]\n",
        "\n",
        "    def _init_enrichment(self):\n",
        "        \"\"\"Mark as 'enriched' or 'purified'.\"\"\"\n",
        "        if self.study_n:\n",
        "            return 'e' if ((1.0 * self.study_count / self.study_n) >\n",
        "                           (1.0 * self.pop_count / self.pop_n)) else 'p'\n",
        "        return 'p'\n",
        "\n",
        "    def update_remaining_fldsdefprt(self, min_ratio=None):\n",
        "        \"\"\"Finish updating self (GOEnrichmentRecord) field, is_ratio_different.\"\"\"\n",
        "        self.is_ratio_different = is_ratio_different(min_ratio, self.study_count,\n",
        "                                                     self.study_n, self.pop_count, self.pop_n)\n",
        "\n",
        "\n",
        "    # -------------------------------------------------------------------------------------\n",
        "    # Methods for getting flat namedtuple values from GOEnrichmentRecord object\n",
        "    def get_prtflds_default(self):\n",
        "        \"\"\"Get default fields.\"\"\"\n",
        "        return self._fldsdefprt[:-1] + \\\n",
        "               [\"p_{M}\".format(M=m.fieldname) for m in self.method_flds] + \\\n",
        "               [self._fldsdefprt[-1]]\n",
        "\n",
        "    def get_prtflds_all(self):\n",
        "        \"\"\"When converting to a namedtuple, get all possible fields in their original order.\"\"\"\n",
        "        flds = []\n",
        "        dont_add = set(['_parents', 'method_flds', 'relationship_rev', 'relationship'])\n",
        "        # Fields: GO NS enrichment name ratio_in_study ratio_in_pop p_uncorrected\n",
        "        #         depth study_count p_sm_bonferroni p_fdr_bh study_items\n",
        "        self._flds_append(flds, self.get_prtflds_default(), dont_add)\n",
        "        # Fields: GO NS goterm\n",
        "        #         ratio_in_pop pop_n pop_count pop_items name\n",
        "        #         ratio_in_study study_n study_count study_items\n",
        "        #         method_flds enrichment p_uncorrected p_sm_bonferroni p_fdr_bh\n",
        "        self._flds_append(flds, vars(self).keys(), dont_add)\n",
        "        # Fields: name level is_obsolete namespace id depth parents children _parents alt_ids\n",
        "        self._flds_append(flds, vars(self.goterm).keys(), dont_add)\n",
        "        return flds\n",
        "\n",
        "    @staticmethod\n",
        "    def _flds_append(flds, addthese, dont_add):\n",
        "        \"\"\"Retain order of fields as we add them once to the list.\"\"\"\n",
        "        for fld in addthese:\n",
        "            if fld not in flds and fld not in dont_add:\n",
        "                flds.append(fld)\n",
        "\n",
        "    def get_field_values(self, fldnames, rpt_fmt=True, itemid2name=None):\n",
        "        \"\"\"Get flat namedtuple fields for one GOEnrichmentRecord.\"\"\"\n",
        "        row = []\n",
        "        # Loop through each user field desired\n",
        "        for fld in fldnames:\n",
        "            # 1. Check the GOEnrichmentRecord's attributes\n",
        "            val = getattr(self, fld, None)\n",
        "            if val is not None:\n",
        "                if rpt_fmt:\n",
        "                    val = self._get_rpt_fmt(fld, val, itemid2name)\n",
        "                row.append(val)\n",
        "            else:\n",
        "                # 2. Check the GO object for the field\n",
        "                val = getattr(self.goterm, fld, None)\n",
        "                if rpt_fmt:\n",
        "                    val = self._get_rpt_fmt(fld, val, itemid2name)\n",
        "                if val is not None:\n",
        "                    row.append(val)\n",
        "                else:\n",
        "                    # 3. Field not found, raise Exception\n",
        "                    self._err_fld(fld, fldnames)\n",
        "            if rpt_fmt:\n",
        "                assert not isinstance(val, list), \\\n",
        "                   \"UNEXPECTED LIST: FIELD({F}) VALUE({V}) FMT({P})\".format(\n",
        "                       P=rpt_fmt, F=fld, V=val)\n",
        "        return row\n",
        "\n",
        "    @staticmethod\n",
        "    def _get_rpt_fmt(fld, val, itemid2name=None):\n",
        "        \"\"\"Return values in a format amenable to printing in a table.\"\"\"\n",
        "        if fld.startswith(\"ratio_\"):\n",
        "            return \"{N}/{TOT}\".format(N=val[0], TOT=val[1])\n",
        "        if fld in set(['study_items', 'pop_items', 'alt_ids']):\n",
        "            if itemid2name is not None:\n",
        "                val = [itemid2name.get(v, v) for v in val]\n",
        "            return \", \".join([str(v) for v in sorted(val)])\n",
        "        return val\n",
        "\n",
        "    def _err_fld(self, fld, fldnames):\n",
        "        \"\"\"Unrecognized field. Print detailed Failure message.\"\"\"\n",
        "        msg = ['ERROR. UNRECOGNIZED FIELD({F})'.format(F=fld)]\n",
        "        actual_flds = set(self.get_prtflds_default() + self.goterm.__dict__.keys())\n",
        "        bad_flds = set(fldnames).difference(set(actual_flds))\n",
        "        if bad_flds:\n",
        "            msg.append(\"\\nGOEA RESULT FIELDS: {}\".format(\" \".join(self._fldsdefprt)))\n",
        "            msg.append(\"GO FIELDS: {}\".format(\" \".join(self.goterm.__dict__.keys())))\n",
        "            msg.append(\"\\nFATAL: {N} UNEXPECTED FIELDS({F})\\n\".format(\n",
        "                N=len(bad_flds), F=\" \".join(bad_flds)))\n",
        "            msg.append(\"  {N} User-provided fields:\".format(N=len(fldnames)))\n",
        "            for idx, fldname in enumerate(fldnames, 1):\n",
        "                mrk = \"ERROR -->\" if fldname in bad_flds else \"\"\n",
        "                msg.append(\"  {M:>9} {I:>2}) {F}\".format(M=mrk, I=idx, F=fldname))\n",
        "        raise Exception(\"\\n\".join(msg))\n",
        "\n",
        "\n",
        "class GOEnrichmentStudy(object):\n",
        "    \"\"\"Runs Fisher's exact test, as well as multiple corrections\n",
        "    \"\"\"\n",
        "\n",
        "    objprtres = GoeaPrintFunctions()\n",
        "\n",
        "    def __init__(self, pop, assoc, obo_dag, propagate_counts=True, alpha=.05, methods=None, **kws):\n",
        "        self.name = kws.get('name', 'GOEA')\n",
        "        print('\\nLoad {OBJNAME} Gene Ontology Analysis ...'.format(OBJNAME=self.name))\n",
        "        self.log = kws['log'] if 'log' in kws else sys.stdout\n",
        "        self._run_multitest = {\n",
        "            'local':self._run_multitest_local,\n",
        "            'statsmodels':self._run_multitest_statsmodels}\n",
        "        self.pop = set(pop)\n",
        "        self.pop_n = len(pop)\n",
        "        self.assoc = assoc\n",
        "        self.obo_dag = obo_dag\n",
        "        self.alpha = alpha\n",
        "        if methods is None:\n",
        "            methods = [\"bonferroni\", \"sidak\", \"holm\"]\n",
        "        self.methods = Methods(methods)\n",
        "        self.pval_obj = FisherFactory(**kws).pval_obj\n",
        "\n",
        "        if propagate_counts:\n",
        "            update_association(assoc, obo_dag, kws.get('relationships', None))\n",
        "        ## BROAD broad_goids = get_goids_to_remove(kws.get('remove_goids'))\n",
        "        ## BROAD if broad_goids:\n",
        "        ## BROAD     assoc = self._remove_assc_goids(assoc, broad_goids)\n",
        "        self.go2popitems = get_terms(\"population\", pop, assoc, obo_dag, self.log)\n",
        "\n",
        "    # def get_objresults(self, name, study, **kws):\n",
        "    #     \"\"\"Run GOEA, return results in an object\"\"\"\n",
        "    #     results = self.run_study(study, **kws)\n",
        "    #     study_in_pop = self.pop.intersection(study)\n",
        "    #     return GoeaResults(study_in_pop, results, self, name)\n",
        "\n",
        "    def _remove_assc_goids(self, assoc, broad_goids):\n",
        "        \"\"\"Remove broad GO IDs\"\"\"\n",
        "        ret = remove_assc_goids(assoc, broad_goids)\n",
        "        if self.log:\n",
        "            self.log.write('**NOTE: {N} of {M} Broad GO IDs remove from association\\n'.format(\n",
        "                N=len(ret['goids_removed']), M=len(broad_goids)))\n",
        "        return ret['assoc_reduced']\n",
        "\n",
        "    def run_study(self, study, **kws):\n",
        "        \"\"\"Run Gene Ontology Enrichment Study (GOEA) on study ids.\"\"\"\n",
        "        study_name = kws.get('name', 'current')\n",
        "        print('\\nRun {OBJNAME} Gene Ontology Analysis: {STU} study set of {N} IDs ...'.format(\n",
        "            OBJNAME=self.name, N=len(study), STU=study_name))\n",
        "        if not study:\n",
        "            return []\n",
        "        # Key-word arguments:\n",
        "        methods = Methods(kws['methods']) if 'methods' in kws else self.methods\n",
        "        alpha = kws['alpha'] if 'alpha' in kws else self.alpha\n",
        "        log = kws['log'] if 'log' in kws else self.log\n",
        "        # Calculate uncorrected pvalues\n",
        "        results = self.get_pval_uncorr(study, log)\n",
        "        if not results:\n",
        "            return []\n",
        "\n",
        "        if log is not None:\n",
        "            log.write(\"  {MSG}\\n\".format(MSG=\"\\n  \".join(self.get_results_msg(results, study))))\n",
        "\n",
        "        # Do multipletest corrections on uncorrected pvalues and update results\n",
        "        self._run_multitest_corr(results, methods, alpha, study, log)\n",
        "\n",
        "        for rec in results:\n",
        "            # get go term for name and level\n",
        "            rec.set_goterm(self.obo_dag)\n",
        "\n",
        "        # 'keep_if' can be used to keep only significant GO terms. Example:\n",
        "        #     >>> keep_if = lambda nt: nt.p_fdr_bh < 0.05 # if results are significant\n",
        "        #     >>> goea_results = goeaobj.run_study(geneids_study, keep_if=keep_if)\n",
        "        if 'keep_if' in kws:\n",
        "            keep_if = kws['keep_if']\n",
        "            results = [r for r in results if keep_if(r)]\n",
        "\n",
        "        # Default sort order:\n",
        "        results.sort(key=lambda r: [r.enrichment, r.NS, r.p_uncorrected])\n",
        "        return results # list of GOEnrichmentRecord objects\n",
        "\n",
        "    def run_study_nts(self, study, **kws):\n",
        "        \"\"\"Run GOEA on study ids. Return results as a list of namedtuples.\"\"\"\n",
        "        goea_results = self.run_study(study, **kws)\n",
        "        return MgrNtGOEAs(goea_results).get_goea_nts_all()\n",
        "\n",
        "    def get_results_msg(self, results, study):\n",
        "        \"\"\"Return summary for GOEA results.\"\"\"\n",
        "        # To convert msg list to string: \"\\n\".join(msg)\n",
        "        msg = []\n",
        "        if results:\n",
        "            fmt = \"{M:6,} GO terms are associated with {N:6,} of {NT:6,}\"\n",
        "            stu_items, num_gos_stu = self.get_item_cnt(results, \"study_items\")\n",
        "            pop_items, num_gos_pop = self.get_item_cnt(results, \"pop_items\")\n",
        "            stu_txt = fmt.format(N=len(stu_items), M=num_gos_stu, NT=len(set(study)))\n",
        "            pop_txt = fmt.format(N=len(pop_items), M=num_gos_pop, NT=self.pop_n)\n",
        "            msg.append(\"{POP} population items\".format(POP=pop_txt))\n",
        "            msg.append(\"{STU} study items\".format(STU=stu_txt))\n",
        "        return msg\n",
        "\n",
        "    def get_pval_uncorr(self, study, log=sys.stdout):\n",
        "        \"\"\"Calculate the uncorrected pvalues for study items.\"\"\"\n",
        "        results = []\n",
        "        study_in_pop = self.pop.intersection(study)\n",
        "        # \" 99%    378 of    382 study items found in population\"\n",
        "        go2studyitems = get_terms(\"study\", study_in_pop, self.assoc, self.obo_dag, log)\n",
        "        pop_n, study_n = self.pop_n, len(study_in_pop)\n",
        "        allterms = set(go2studyitems).union(set(self.go2popitems))\n",
        "        if log is not None:\n",
        "            # Some study genes may not have been found in the population. Report from orig\n",
        "            study_n_orig = len(study)\n",
        "            perc = 100.0*study_n/study_n_orig if study_n_orig != 0 else 0.0\n",
        "            log.write(\"{R:3.0f}% {N:>6,} of {M:>6,} study items found in population({P})\\n\".format(\n",
        "                N=study_n, M=study_n_orig, P=pop_n, R=perc))\n",
        "            if study_n:\n",
        "                log.write(\"Calculating {N:,} uncorrected p-values using {PFNC}\\n\".format(\n",
        "                    N=len(allterms), PFNC=self.pval_obj.name))\n",
        "        # If no study genes were found in the population, return empty GOEA results\n",
        "        if not study_n:\n",
        "            return []\n",
        "        calc_pvalue = self.pval_obj.calc_pvalue\n",
        "\n",
        "        for goid in allterms:\n",
        "            study_items = go2studyitems.get(goid, set())\n",
        "            study_count = len(study_items)\n",
        "            pop_items = self.go2popitems.get(goid, set())\n",
        "            pop_count = len(pop_items)\n",
        "\n",
        "            one_record = GOEnrichmentRecord(\n",
        "                goid,\n",
        "                p_uncorrected=calc_pvalue(study_count, study_n, pop_count, pop_n),\n",
        "                study_items=study_items,\n",
        "                pop_items=pop_items,\n",
        "                ratio_in_study=(study_count, study_n),\n",
        "                ratio_in_pop=(pop_count, pop_n))\n",
        "\n",
        "            results.append(one_record)\n",
        "\n",
        "        return results\n",
        "\n",
        "    def _run_multitest_corr(self, results, usrmethod_flds, alpha, study, log):\n",
        "        \"\"\"Do multiple-test corrections on uncorrected pvalues.\"\"\"\n",
        "        assert 0 < alpha < 1, \"Test-wise alpha must fall between (0, 1)\"\n",
        "        pvals = [r.p_uncorrected for r in results]\n",
        "        ntobj = cx.namedtuple(\"ntobj\", \"results pvals alpha nt_method study\")\n",
        "        for nt_method in usrmethod_flds:\n",
        "            ntmt = ntobj(results, pvals, alpha, nt_method, study)\n",
        "            self._run_multitest[nt_method.source](ntmt)\n",
        "            if log is not None:\n",
        "                self._log_multitest_corr(log, results, ntmt, alpha)\n",
        "\n",
        "    def _log_multitest_corr(self, log, results, ntmt, alpha):\n",
        "        \"\"\"Print information regarding multitest correction results.\"\"\"\n",
        "        ntm = ntmt.nt_method\n",
        "        attr_mult = \"p_{M}\".format(M=self.methods.get_fieldname(ntm.source, ntm.method))\n",
        "        eps = [r for r in results if getattr(r, attr_mult) < alpha]\n",
        "        sig_cnt = len(eps)\n",
        "        ctr = cx.Counter([r.enrichment for r in eps])\n",
        "        log.write('  METHOD {M}:\\n'.format(M=ntm.method))\n",
        "        log.write(\"{N:8,} GO terms found significant (< {A}=alpha) \".format(\n",
        "            N=sig_cnt, A=alpha))\n",
        "        log.write('({E:3} enriched + {P:3} purified): '.format(E=ctr['e'], P=ctr['p']))\n",
        "        log.write(\"{MSRC} {METHOD}\\n\".format(MSRC=ntm.source, METHOD=ntm.method))\n",
        "        log.write(\"{N:8,} study items associated with significant GO IDs (enriched)\\n\".format(\n",
        "            N=len(self.get_study_items(r for r in eps if r.enrichment == 'e'))))\n",
        "        log.write(\"{N:8,} study items associated with significant GO IDs (purified)\\n\".format(\n",
        "            N=len(self.get_study_items(r for r in eps if r.enrichment == 'p'))))\n",
        "\n",
        "    @staticmethod\n",
        "    def get_study_items(results):\n",
        "        \"\"\"Return a list of study items associated with the given results.\"\"\"\n",
        "        study_items = set()\n",
        "        for obj in results:\n",
        "            study_items.update(obj.study_items)\n",
        "        return study_items\n",
        "\n",
        "    def _run_multitest_statsmodels(self, ntmt):\n",
        "        \"\"\"Use multitest mthods that have been implemented in statsmodels.\"\"\"\n",
        "        # Only load statsmodels if it is used\n",
        "        multipletests = self.methods.get_statsmodels_multipletests()\n",
        "        results = multipletests(ntmt.pvals, ntmt.alpha, ntmt.nt_method.method)\n",
        "        pvals_corrected = results[1] # reject_lst, pvals_corrected, alphacSidak, alphacBonf\n",
        "        self._update_pvalcorr(ntmt, pvals_corrected)\n",
        "\n",
        "    def _run_multitest_local(self, ntmt):\n",
        "        \"\"\"Use multitest mthods that have been implemented locally.\"\"\"\n",
        "        corrected_pvals = None\n",
        "        method = ntmt.nt_method.method\n",
        "        if method == \"bonferroni\":\n",
        "            corrected_pvals = Bonferroni(ntmt.pvals, ntmt.alpha).corrected_pvals\n",
        "        elif method == \"sidak\":\n",
        "            corrected_pvals = Sidak(ntmt.pvals, ntmt.alpha).corrected_pvals\n",
        "        elif method == \"holm\":\n",
        "            corrected_pvals = HolmBonferroni(ntmt.pvals, ntmt.alpha).corrected_pvals\n",
        "        elif method == \"fdr\":\n",
        "            # get the empirical p-value distributions for FDR\n",
        "            term_pop = getattr(self, 'term_pop', None)\n",
        "            if term_pop is None:\n",
        "                term_pop = count_terms(self.pop, self.assoc, self.obo_dag)\n",
        "            p_val_distribution = calc_qval(len(ntmt.study),\n",
        "                                           self.pop_n,\n",
        "                                           self.pop, self.assoc,\n",
        "                                           term_pop, self.obo_dag)\n",
        "            corrected_pvals = FDR(p_val_distribution,\n",
        "                                  ntmt.results, ntmt.alpha).corrected_pvals\n",
        "\n",
        "        self._update_pvalcorr(ntmt, corrected_pvals)\n",
        "\n",
        "    @staticmethod\n",
        "    def _update_pvalcorr(ntmt, corrected_pvals):\n",
        "        \"\"\"Add data members to store multiple test corrections.\"\"\"\n",
        "        if corrected_pvals is None:\n",
        "            return\n",
        "        for rec, val in zip(ntmt.results, corrected_pvals):\n",
        "            rec.set_corrected_pval(ntmt.nt_method, val)\n",
        "\n",
        "    # Methods for writing results into tables: text, tab-separated, Excel spreadsheets\n",
        "    def wr_txt(self, fout_txt, goea_results, prtfmt=None, **kws):\n",
        "        \"\"\"Print GOEA results to text file.\"\"\"\n",
        "        if not goea_results:\n",
        "            sys.stdout.write(\"      0 GOEA results. NOT WRITING {FOUT}\\n\".format(FOUT=fout_txt))\n",
        "            return\n",
        "        with open(fout_txt, 'w') as prt:\n",
        "            if 'title' in kws:\n",
        "                prt.write(\"{TITLE}\\n\".format(TITLE=kws['title']))\n",
        "            data_nts = self.prt_txt(prt, goea_results, prtfmt, **kws)\n",
        "            log = self.log if self.log is not None else sys.stdout\n",
        "            log.write(\"  {N:>5} GOEA results for {CUR:5} study items. WROTE: {F}\\n\".format(\n",
        "                N=len(data_nts),\n",
        "                CUR=len(MgrNtGOEAs(goea_results).get_study_items()),\n",
        "                F=fout_txt))\n",
        "\n",
        "    @staticmethod\n",
        "    def prt_txt(prt, goea_results, prtfmt=None, **kws):\n",
        "        \"\"\"Print GOEA results in text format.\"\"\"\n",
        "        objprt = PrtFmt()\n",
        "        if prtfmt is None:\n",
        "            flds = ['GO', 'NS', 'p_uncorrected',\n",
        "                    'ratio_in_study', 'ratio_in_pop', 'depth', 'name', 'study_items']\n",
        "            prtfmt = objprt.get_prtfmt_str(flds)\n",
        "        prtfmt = objprt.adjust_prtfmt(prtfmt)\n",
        "        prt_flds = RPT.get_fmtflds(prtfmt)\n",
        "        data_nts = MgrNtGOEAs(goea_results).get_goea_nts_prt(prt_flds, **kws)\n",
        "        RPT.prt_txt(prt, data_nts, prtfmt, prt_flds, **kws)\n",
        "        return data_nts\n",
        "\n",
        "    def wr_xlsx(self, fout_xlsx, goea_results, **kws):\n",
        "        \"\"\"Write a xlsx file.\"\"\"\n",
        "        # kws: prt_if indent itemid2name(study_items)\n",
        "        objprt = PrtFmt()\n",
        "        prt_flds = kws.get('prt_flds', self.objprtres.get_prtflds_default(goea_results))\n",
        "        xlsx_data = MgrNtGOEAs(goea_results).get_goea_nts_prt(prt_flds, **kws)\n",
        "        if 'fld2col_widths' not in kws:\n",
        "            kws['fld2col_widths'] = {f:objprt.default_fld2col_widths.get(f, 8) for f in prt_flds}\n",
        "        RPT.wr_xlsx(fout_xlsx, xlsx_data, **kws)\n",
        "\n",
        "    def wr_tsv(self, fout_tsv, goea_results, **kws):\n",
        "        \"\"\"Write tab-separated table data to file\"\"\"\n",
        "        prt_flds = kws.get('prt_flds', self.objprtres.get_prtflds_default(goea_results))\n",
        "        tsv_data = MgrNtGOEAs(goea_results).get_goea_nts_prt(prt_flds, **kws)\n",
        "        RPT.wr_tsv(fout_tsv, tsv_data, **kws)\n",
        "\n",
        "    def prt_tsv(self, prt, goea_results, **kws):\n",
        "        \"\"\"Write tab-separated table data\"\"\"\n",
        "        prt_flds = kws.get('prt_flds', self.objprtres.get_prtflds_default(goea_results))\n",
        "        tsv_data = MgrNtGOEAs(goea_results).get_goea_nts_prt(prt_flds, **kws)\n",
        "        RPT.prt_tsv(prt, tsv_data, **kws)\n",
        "\n",
        "    @staticmethod\n",
        "    def get_ns2nts(results, fldnames=None, **kws):\n",
        "        \"\"\"Get namedtuples of GOEA results, split into BP, MF, CC.\"\"\"\n",
        "        ns2nts = cx.defaultdict(list)\n",
        "        nts = MgrNtGOEAs(results).get_goea_nts_all(fldnames, **kws)\n",
        "        for ntgoea in nts:\n",
        "            ns2nts[ntgoea.NS].append(ntgoea)\n",
        "        return ns2nts\n",
        "\n",
        "    @staticmethod\n",
        "    def get_item_cnt(results, attrname=\"study_items\"):\n",
        "        \"\"\"Get all study or population items (e.g., geneids).\"\"\"\n",
        "        items = set()\n",
        "        go_cnt = 0\n",
        "        for rec in results:\n",
        "            if hasattr(rec, attrname):\n",
        "                items_cur = getattr(rec, attrname)\n",
        "                # Only count GO term if there are items in the set.\n",
        "                if items_cur:\n",
        "                    items |= items_cur\n",
        "                    go_cnt += 1\n",
        "        return items, go_cnt\n",
        "\n",
        "    def wr_py_goea_results(self, fout_py, goea_results, **kws):\n",
        "        \"\"\"Save GOEA results into Python package containing list of namedtuples.\"\"\"\n",
        "        var_name = kws.get(\"var_name\", \"goea_results\")\n",
        "        docstring = kws.get(\"docstring\", \"\")\n",
        "        sortby = kws.get(\"sortby\", None)\n",
        "        if goea_results:\n",
        "            from goatools.nt_utils import wr_py_nts\n",
        "            nts_goea = goea_results\n",
        "            # If list has GOEnrichmentRecords or verbose namedtuples, exclude some fields.\n",
        "            if hasattr(goea_results[0], \"_fldsdefprt\") or hasattr(goea_results[0], 'goterm'):\n",
        "                # Exclude some attributes from the namedtuple when saving results\n",
        "                # to a Python file because the information is redundant or verbose.\n",
        "                nts_goea = MgrNtGOEAs(goea_results).get_goea_nts_prt(**kws)\n",
        "            docstring = \"\\n\".join([docstring, \"# {VER}\\n\\n\".format(VER=self.obo_dag.version)])\n",
        "            assert hasattr(nts_goea[0], '_fields')\n",
        "            if sortby is None:\n",
        "                sortby = MgrNtGOEAs.dflt_sortby_objgoea\n",
        "            nts_goea = sorted(nts_goea, key=sortby)\n",
        "            wr_py_nts(fout_py, nts_goea, docstring, var_name)\n",
        "\n",
        "# Copyright (C) 2010-2019, H Tang et al., All rights reserved.\n"
      ],
      "execution_count": 58,
      "outputs": []
    },
    {
      "cell_type": "markdown",
      "metadata": {
        "id": "0hOb1fcybaYu",
        "colab_type": "text"
      },
      "source": [
        "Now we create a modified GOEnrichmentStudy object, which is not specific for the GO ontologies and can be used for any king of dag. "
      ]
    },
    {
      "cell_type": "code",
      "metadata": {
        "id": "jkG8CTM0m9Jn",
        "colab_type": "code",
        "colab": {
          "base_uri": "https://localhost:8080/",
          "height": 90
        },
        "outputId": "4e2afd0d-b4d6-48a9-8c31-e8a4980df739"
      },
      "source": [
        "goeaobj = GOEnrichmentStudy(\n",
        "        GeneID2nt.keys(), # List of human protein-coding genes\n",
        "        ns2assoc[\"BP\"], # geneid/HPO associations (disregard the \"BP\" here)\n",
        "        obodag, # Ontologies\n",
        "        propagate_counts = False,\n",
        "        alpha = 0.05, # default significance cut-off\n",
        "        methods = ['fdr_bh'], # defult multipletest correction method\n",
        ")"
      ],
      "execution_count": 59,
      "outputs": [
        {
          "output_type": "stream",
          "text": [
            "\n",
            "Load GOEA Gene Ontology Analysis ...\n",
            "fisher module not installed.  Falling back on scipy.stats.fisher_exact\n",
            " 20%  4,267 of 20,913 population items found in association\n"
          ],
          "name": "stdout"
        }
      ]
    },
    {
      "cell_type": "markdown",
      "metadata": {
        "id": "XAOn5ahIopDe",
        "colab_type": "text"
      },
      "source": [
        "Create the gene list we want to analyse "
      ]
    },
    {
      "cell_type": "code",
      "metadata": {
        "id": "IrpC5LI1onvg",
        "colab_type": "code",
        "colab": {}
      },
      "source": [
        "genes = [2, 25, 111, 85358, 85359, 9378]"
      ],
      "execution_count": 60,
      "outputs": []
    },
    {
      "cell_type": "code",
      "metadata": {
        "id": "He8gIks0nJkm",
        "colab_type": "code",
        "colab": {
          "base_uri": "https://localhost:8080/",
          "height": 256
        },
        "outputId": "855c80e2-96d0-4e32-e248-e1231cc4e884"
      },
      "source": [
        "goea_results_all = goeaobj.run_study(genes)\n",
        "goea_results_sig = [r for r in goea_results_all if r.p_fdr_bh < 0.05]"
      ],
      "execution_count": 61,
      "outputs": [
        {
          "output_type": "stream",
          "text": [
            "\n",
            "Run GOEA Gene Ontology Analysis: current study set of 6 IDs ...\n",
            " 83%      5 of      6 study items found in association\n",
            "100%      6 of      6 study items found in population(20913)\n",
            "Calculating 7,836 uncorrected p-values using fisher_scipy_stats\n",
            "   7,836 GO terms are associated with  4,267 of 20,913 population items\n",
            "     196 GO terms are associated with      5 of      6 study items\n",
            "  METHOD fdr_bh:\n",
            "       2 GO terms found significant (< 0.05=alpha) (  2 enriched +   0 purified): statsmodels fdr_bh\n",
            "       3 study items associated with significant GO IDs (enriched)\n",
            "       0 study items associated with significant GO IDs (purified)\n"
          ],
          "name": "stdout"
        },
        {
          "output_type": "stream",
          "text": [
            "/usr/local/lib/python3.6/dist-packages/statsmodels/tools/_testing.py:19: FutureWarning: pandas.util.testing is deprecated. Use the functions in the public API at pandas.testing instead.\n",
            "  import pandas.util.testing as tm\n"
          ],
          "name": "stderr"
        }
      ]
    },
    {
      "cell_type": "code",
      "metadata": {
        "id": "6dxuPYSOnRoX",
        "colab_type": "code",
        "colab": {
          "base_uri": "https://localhost:8080/",
          "height": 54
        },
        "outputId": "8aaa8cb8-9cf3-47a2-97f8-f895bda09ff8"
      },
      "source": [
        "for result in goea_results_all:\n",
        "  if result.p_fdr_bh < 0.05:\n",
        "    print(result)"
      ],
      "execution_count": 62,
      "outputs": [
        {
          "output_type": "stream",
          "text": [
            "HP:0000307\tXX\te\tPointed chin                  \t3/6\t70/20913\t7.13e-07\t6\t3\t0.00559\t25, 9378, 85358\n",
            "HP:0003763\tXX\te\tBruxism                       \t2/6\t14/20913\t6.23e-06\t6\t2\t0.0244\t    9378, 85358\n"
          ],
          "name": "stdout"
        }
      ]
    },
    {
      "cell_type": "markdown",
      "metadata": {
        "id": "BtWbyOgYnur5",
        "colab_type": "text"
      },
      "source": [
        "Yeah! It works now!\n"
      ]
    },
    {
      "cell_type": "markdown",
      "metadata": {
        "id": "G-fLmvXBoeaK",
        "colab_type": "text"
      },
      "source": [
        "# In summary\n",
        "This runs HPO enrichment for the genes in the `genes` list, using the HPO annotation file downloaded directly from their website.\n",
        "\n",
        "To run this with another gene list, just replace the genes in the list or \n",
        "read the from a file (might be more convenient).\n",
        "\n",
        "for example to read genes from a file called \"genes.txt\" (one gene per line, entrezgene ids):\n",
        "\n",
        "```\n",
        "genes = [gene.strip() for gene in open(\"genes.txt\")]\n",
        "```\n",
        "\n",
        "To use another HPO term annotation file just change the file name above, for example:\n",
        "\n",
        "\n",
        "```\n",
        "hpo_annotations = pd.read_csv(\n",
        "    \"genes_to_phenotype.txt\",\n",
        "    sep=\"\\t\",\n",
        "    header=None,\n",
        "    comment=\"#\",\n",
        ")\n",
        "```\n",
        "\n",
        "In both cases, copy the notebook, make any changes and run all from the beginning.\n",
        "\n"
      ]
    },
    {
      "cell_type": "code",
      "metadata": {
        "id": "Q8H-YfdPrGp-",
        "colab_type": "code",
        "colab": {}
      },
      "source": [
        ""
      ],
      "execution_count": null,
      "outputs": []
    }
  ]
}